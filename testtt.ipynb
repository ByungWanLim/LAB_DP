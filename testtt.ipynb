{
 "cells": [
  {
   "cell_type": "code",
   "execution_count": 1,
   "metadata": {},
   "outputs": [],
   "source": [
    "import cv2\n",
    "import os\n",
    "import numpy as np"
   ]
  },
  {
   "cell_type": "code",
   "execution_count": 2,
   "metadata": {},
   "outputs": [],
   "source": [
    "\n",
    "ti_dir = \"C:\\Workspace\\DP_0\\DIP4E_Global_BookImages\"\n",
    "ti_name = \"binary-objects.tif\"\n",
    "test_image = cv2.imread(os.path.join(ti_dir, ti_name))\n",
    "\n",
    "write_dir = \"C:\\Workspace\\DP_0\\Image\""
   ]
  },
  {
   "cell_type": "code",
   "execution_count": 11,
   "metadata": {},
   "outputs": [],
   "source": [
    "#BOX_Filter\n",
    "\n",
    "# Filter_sizes\n",
    "sizes = [3, 19, 25]\n",
    "BF_imgs = []\n",
    "\n",
    "# BOX_Filtering for all sizes\n",
    "for i in sizes :\n",
    "    kernel_size = (i, i)\n",
    "    box_kernel = np.ones(kernel_size, dtype=np.float32) / np.prod(kernel_size)\n",
    "    padding_size = (i - 1) // 2\n",
    "    pd_img = cv2.copyMakeBorder(test_image, padding_size, padding_size, padding_size, padding_size, cv2.BORDER_CONSTANT, value=0)\n",
    "    pd_BF_img = cv2.filter2D(pd_img, -1, box_kernel)\n",
    "    BF_img = pd_BF_img[padding_size:-padding_size, padding_size:-padding_size]\n",
    "    BF_imgs.append(BF_img)\n",
    "    cv2.imwrite(f'BF_img{i}.jpg', BF_img)\n"
   ]
  },
  {
   "cell_type": "code",
   "execution_count": 12,
   "metadata": {},
   "outputs": [],
   "source": [
    "# Gaussian_Filter\n",
    "\n",
    "# Sigmas\n",
    "kernel_size = (19, 19)\n",
    "sigmas = [3, 7]\n",
    "\n",
    "GF_imgs = []\n",
    "\n",
    "# Gaussian Filtering for all Sigmas\n",
    "for i in sigmas :\n",
    "    Gaussian_kernel = cv2.getGaussianKernel(kernel_size[0], i)\n",
    "    padding_size = (kernel_size[0] - 1) // 2\n",
    "    pd_img = cv2.copyMakeBorder(test_image, padding_size, padding_size, padding_size, padding_size, cv2.BORDER_CONSTANT, value=0)\n",
    "    pd_GF_img = cv2.filter2D(pd_img, -1, Gaussian_kernel)\n",
    "    GF_img = pd_GF_img[padding_size:-padding_size, padding_size:-padding_size]\n",
    "    GF_imgs.append(GF_img)\n",
    "    cv2.imwrite(f'GF_img{i}.jpg', GF_img)\n"
   ]
  },
  {
   "cell_type": "code",
   "execution_count": 13,
   "metadata": {},
   "outputs": [],
   "source": [
    "# Box_Filter vs Gaussian_Filter\n",
    "\n",
    "BF_GF_result = BF_imgs[1] - GF_imgs[0]\n",
    "\n",
    "cv2.imshow('result', BF_GF_result)\n",
    "cv2.imshow('Box', BF_imgs[1])\n",
    "cv2.imshow('Gaussian', GF_imgs[0])\n",
    "cv2.waitKey(0)\n",
    "cv2.destroyAllWindows()\n"
   ]
  },
  {
   "cell_type": "code",
   "execution_count": 15,
   "metadata": {},
   "outputs": [
    {
     "data": {
      "text/plain": [
       "True"
      ]
     },
     "execution_count": 15,
     "metadata": {},
     "output_type": "execute_result"
    }
   ],
   "source": [
    "# Sobel_Filter\n",
    "\n",
    "# X sobel kernel\n",
    "sobel_x = cv2.Sobel(test_image, cv2.CV_64F, 1, 0, ksize=3, borderType=cv2.BORDER_CONSTANT)\n",
    "\n",
    "# Y sobel kernel\n",
    "sobel_y = cv2.Sobel(test_image, cv2.CV_64F, 0, 1, ksize=3, borderType=cv2.BORDER_CONSTANT)\n",
    "\n",
    "# Calculate edge_strength\n",
    "edge_strength = np.sqrt(np.square(sobel_x) + np.square(sobel_y))\n",
    "\n",
    "threshold = 100\n",
    "\n",
    "# Filtering\n",
    "SF_img = np.zeros_like(test_image)\n",
    "SF_img[edge_strength > threshold] = 255\n",
    "\n",
    "cv2.imwrite('SF_img0.jpg', SF_img)\n",
    "\n",
    "# cv2.imshow('Original Image', test_image)\n",
    "# cv2.imshow('SF_img', SF_img)\n",
    "# cv2.waitKey(0)\n",
    "# cv2.destroyAllWindows()\n",
    "\n"
   ]
  },
  {
   "cell_type": "code",
   "execution_count": 17,
   "metadata": {},
   "outputs": [],
   "source": [
    "# 그냥 해본거 신경 쓰지 말것.\n",
    "\n",
    "sobel_x1 = cv2.Sobel(BF_imgs[1], cv2.CV_64F, 1, 0, ksize=3, borderType=cv2.BORDER_CONSTANT)\n",
    "sobel_x2 = cv2.Sobel(GF_imgs[0], cv2.CV_64F, 1, 0, ksize=3, borderType=cv2.BORDER_CONSTANT)\n",
    "\n",
    "sobel_y1 = cv2.Sobel(BF_imgs[1], cv2.CV_64F, 0, 1, ksize=3, borderType=cv2.BORDER_CONSTANT)\n",
    "sobel_y2 = cv2.Sobel(GF_imgs[0], cv2.CV_64F, 0, 1, ksize=3, borderType=cv2.BORDER_CONSTANT)\n",
    "\n",
    "edge_strength1 = np.sqrt(np.square(sobel_x1) + np.square(sobel_y1))\n",
    "edge_strength2 = np.sqrt(np.square(sobel_x2) + np.square(sobel_y2))\n",
    "\n",
    "threshold = 100\n",
    "\n",
    "SF_img1 = np.zeros_like(BF_imgs[1])\n",
    "SF_img1[edge_strength > threshold] = 255\n",
    "SF_img2 = np.zeros_like(GF_imgs[0])\n",
    "SF_img2[edge_strength > threshold] = 255\n",
    "\n",
    "# cv2.imwrite('SF_img0.jpg', SF_img)\n",
    "\n",
    "cv2.imshow('Original Image', SF_img1)\n",
    "cv2.imshow('SF_img', SF_img2)\n",
    "cv2.waitKey(0)\n",
    "cv2.destroyAllWindows()"
   ]
  },
  {
   "cell_type": "code",
   "execution_count": 24,
   "metadata": {},
   "outputs": [
    {
     "data": {
      "text/plain": [
       "True"
      ]
     },
     "execution_count": 24,
     "metadata": {},
     "output_type": "execute_result"
    }
   ],
   "source": [
    "# Dilation, Erosion, Opening, Closing with Basic Kernel\n",
    "\n",
    "ti_dir1 = \"C:\\Workspace\\DP_0\\DIP4E_Global_BookImages\"\n",
    "ti_name1 = \"checkerboard-noisy2.tif\"\n",
    "test_image1 = cv2.imread(os.path.join(ti_dir1, ti_name1))\n",
    "\n",
    "# cv2.imshow('SF_img', test_image1)\n",
    "# cv2.waitKey(0)\n",
    "# cv2.destroyAllWindows()\n",
    "\n",
    "kernel = np.ones((5, 5), np.uint8)\n",
    "iterations = 1\n",
    "\n",
    "# Dilation(팽창)\n",
    "dilated = cv2.dilate(test_image1, kernel, iterations)\n",
    "\n",
    "# Erosion(침식)\n",
    "eroded = cv2.erode(test_image1, kernel, iterations)\n",
    "\n",
    "# Opening(열기)\n",
    "opened = cv2.morphologyEx(test_image1, cv2.MORPH_OPEN, kernel)\n",
    "\n",
    "# Closing(닫기)\n",
    "closed = cv2.morphologyEx(test_image1, cv2.MORPH_CLOSE, kernel)\n",
    "\n",
    "cv2.imwrite('Dil_img.jpg', dilated)\n",
    "cv2.imwrite('Ero_img.jpg', eroded)\n",
    "cv2.imwrite('Open_img.jpg', opened)\n",
    "cv2.imwrite('Close_img.jpg', closed)\n",
    "\n",
    "# cv2.imshow('D', dilated)\n",
    "# cv2.imshow('E', eroded)\n",
    "# cv2.imshow('O', opened)\n",
    "# cv2.imshow('C', closed)\n",
    "# cv2.waitKey(0)\n",
    "# cv2.destroyAllWindows()\n"
   ]
  },
  {
   "cell_type": "code",
   "execution_count": 25,
   "metadata": {},
   "outputs": [
    {
     "data": {
      "text/plain": [
       "True"
      ]
     },
     "execution_count": 25,
     "metadata": {},
     "output_type": "execute_result"
    }
   ],
   "source": [
    "# Dilate & Erode -> Open & Close\n",
    "\n",
    "# Erode + Dilate = Open\n",
    "op = cv2.dilate(eroded, kernel, iterations)\n",
    "\n",
    "# Dilate + Erode = Close\n",
    "cl = cv2.erode(dilated, kernel, iterations)\n",
    "\n",
    "cv2.imwrite('Op_ED_img.jpg', op)\n",
    "cv2.imwrite('Cl_DE_img.jpg', cl)\n",
    "\n",
    "# cv2.imshow('O', closed)\n",
    "# cv2.imshow('C', cl)\n",
    "# cv2.waitKey(0)\n",
    "# cv2.destroyAllWindows()\n"
   ]
  },
  {
   "cell_type": "code",
   "execution_count": 33,
   "metadata": {},
   "outputs": [
    {
     "data": {
      "text/plain": [
       "True"
      ]
     },
     "execution_count": 33,
     "metadata": {},
     "output_type": "execute_result"
    }
   ],
   "source": [
    "# Dilation, Erosion, Opening, Closing with Structural Elementes\n",
    "\n",
    "# Image load\n",
    "OP_dir = \"C:\\Workspace\\DP_0\\DIP4E_Global_BookImages\"\n",
    "OP_name = \"letterA-distorted.tif\"\n",
    "\n",
    "DE_Noise_img = test_image1\n",
    "OP_outline_img = cv2.imread(os.path.join(OP_dir, OP_name))\n",
    "CL_outline_img = SF_img\n",
    "\n",
    "# Structural Element\n",
    "rectangular_element = cv2.getStructuringElement(cv2.MORPH_RECT, (5, 5))\n",
    "circular_element = cv2.getStructuringElement(cv2.MORPH_ELLIPSE, (5, 5))\n",
    "cross_element = cv2.getStructuringElement(cv2.MORPH_CROSS, (5, 5))\n",
    "\n",
    "\n",
    "# Dilation + Rect\n",
    "dil_R = cv2.dilate(DE_Noise_img, rectangular_element, iterations)\n",
    "\n",
    "# Erosion + Rect\n",
    "erod_R = cv2.erode(DE_Noise_img, rectangular_element, iterations)\n",
    "\n",
    "# Opening + Circ\n",
    "open_C = cv2.morphologyEx(OP_outline_img, cv2.MORPH_OPEN, circular_element)\n",
    "open_only = cv2.morphologyEx(OP_outline_img, cv2.MORPH_OPEN, kernel)\n",
    "\n",
    "# Closing + Cross\n",
    "close_Cr = cv2.morphologyEx(CL_outline_img, cv2.MORPH_CLOSE, cross_element)\n",
    "close_only = cv2.morphologyEx(CL_outline_img, cv2.MORPH_CLOSE, kernel)\n",
    "\n",
    "cv2.imwrite('Dil_R_img.jpg', dil_R)\n",
    "cv2.imwrite('Erod_R_img.jpg', erod_R)\n",
    "cv2.imwrite('Op_C_img.jpg', open_C)\n",
    "cv2.imwrite('Op_only_img.jpg', open_only)\n",
    "cv2.imwrite('Cl_CR_img.jpg', close_Cr)\n",
    "cv2.imwrite('Cl_only_img.jpg', close_only)\n",
    "\n",
    "# cv2.imshow('D', close_Cr)\n",
    "# cv2.imshow('E', close_only)\n",
    "# cv2.waitKey(0)\n",
    "# cv2.destroyAllWindows()\n",
    "\n"
   ]
  }
 ],
 "metadata": {
  "kernelspec": {
   "display_name": "UM",
   "language": "python",
   "name": "python3"
  },
  "language_info": {
   "codemirror_mode": {
    "name": "ipython",
    "version": 3
   },
   "file_extension": ".py",
   "mimetype": "text/x-python",
   "name": "python",
   "nbconvert_exporter": "python",
   "pygments_lexer": "ipython3",
   "version": "3.10.9"
  },
  "orig_nbformat": 4
 },
 "nbformat": 4,
 "nbformat_minor": 2
}
