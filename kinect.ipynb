{
 "cells": [
  {
   "cell_type": "code",
   "execution_count": 4,
   "metadata": {},
   "outputs": [
    {
     "ename": "AssertionError",
     "evalue": "80",
     "output_type": "error",
     "traceback": [
      "\u001b[1;31m---------------------------------------------------------------------------\u001b[0m",
      "\u001b[1;31mAssertionError\u001b[0m                            Traceback (most recent call last)",
      "Cell \u001b[1;32mIn[4], line 6\u001b[0m\n\u001b[0;32m      4\u001b[0m \u001b[39mimport\u001b[39;00m \u001b[39msys\u001b[39;00m\n\u001b[0;32m      5\u001b[0m \u001b[39mimport\u001b[39;00m \u001b[39mnumpy\u001b[39;00m \u001b[39mas\u001b[39;00m \u001b[39mnp\u001b[39;00m\n\u001b[1;32m----> 6\u001b[0m \u001b[39mfrom\u001b[39;00m \u001b[39mpykinect2\u001b[39;00m \u001b[39mimport\u001b[39;00m PyKinectV2\n\u001b[0;32m      7\u001b[0m \u001b[39mfrom\u001b[39;00m \u001b[39mpykinect2\u001b[39;00m\u001b[39m.\u001b[39;00m\u001b[39mPyKinectV2\u001b[39;00m \u001b[39mimport\u001b[39;00m \u001b[39m*\u001b[39m\n\u001b[0;32m      8\u001b[0m \u001b[39mfrom\u001b[39;00m \u001b[39mpykinect2\u001b[39;00m \u001b[39mimport\u001b[39;00m PyKinectRuntime\n",
      "File \u001b[1;32m~\\AppData\\Roaming\\Python\\Python311\\site-packages\\pykinect2\\PyKinectV2.py:2216\u001b[0m\n\u001b[0;32m   2131\u001b[0m \u001b[39m################################################################\u001b[39;00m\n\u001b[0;32m   2132\u001b[0m \u001b[39m## code template for ICoordinateMapper implementation\u001b[39;00m\n\u001b[0;32m   2133\u001b[0m \u001b[39m##class ICoordinateMapper_Impl(object):\u001b[39;00m\n\u001b[1;32m   (...)\u001b[0m\n\u001b[0;32m   2200\u001b[0m \u001b[39m##        #return colorPoint\u001b[39;00m\n\u001b[0;32m   2201\u001b[0m \u001b[39m##\u001b[39;00m\n\u001b[0;32m   2203\u001b[0m tagSTATSTG\u001b[39m.\u001b[39m_fields_ \u001b[39m=\u001b[39m [\n\u001b[0;32m   2204\u001b[0m     (\u001b[39m'\u001b[39m\u001b[39mpwcsName\u001b[39m\u001b[39m'\u001b[39m, WSTRING),\n\u001b[0;32m   2205\u001b[0m     (\u001b[39m'\u001b[39m\u001b[39mtype\u001b[39m\u001b[39m'\u001b[39m, c_ulong),\n\u001b[1;32m   (...)\u001b[0m\n\u001b[0;32m   2214\u001b[0m     (\u001b[39m'\u001b[39m\u001b[39mreserved\u001b[39m\u001b[39m'\u001b[39m, c_ulong),\n\u001b[0;32m   2215\u001b[0m ]\n\u001b[1;32m-> 2216\u001b[0m \u001b[39massert\u001b[39;00m sizeof(tagSTATSTG) \u001b[39m==\u001b[39m \u001b[39m72\u001b[39m, sizeof(tagSTATSTG)\n\u001b[0;32m   2217\u001b[0m \u001b[39massert\u001b[39;00m alignment(tagSTATSTG) \u001b[39m==\u001b[39m \u001b[39m8\u001b[39m, alignment(tagSTATSTG)\n\u001b[0;32m   2218\u001b[0m IAudioBeamList\u001b[39m.\u001b[39m_methods_ \u001b[39m=\u001b[39m [\n\u001b[0;32m   2219\u001b[0m     COMMETHOD([\u001b[39m'\u001b[39m\u001b[39mpropget\u001b[39m\u001b[39m'\u001b[39m], HRESULT, \u001b[39m'\u001b[39m\u001b[39mBeamCount\u001b[39m\u001b[39m'\u001b[39m,\n\u001b[0;32m   2220\u001b[0m               ( [\u001b[39m'\u001b[39m\u001b[39mretval\u001b[39m\u001b[39m'\u001b[39m, \u001b[39m'\u001b[39m\u001b[39mout\u001b[39m\u001b[39m'\u001b[39m], POINTER(c_uint), \u001b[39m'\u001b[39m\u001b[39mcount\u001b[39m\u001b[39m'\u001b[39m )),\n\u001b[1;32m   (...)\u001b[0m\n\u001b[0;32m   2223\u001b[0m               ( [\u001b[39m'\u001b[39m\u001b[39mout\u001b[39m\u001b[39m'\u001b[39m], POINTER(POINTER(IAudioBeam)), \u001b[39m'\u001b[39m\u001b[39mAudioBeam\u001b[39m\u001b[39m'\u001b[39m )),\n\u001b[0;32m   2224\u001b[0m ]\n",
      "\u001b[1;31mAssertionError\u001b[0m: 80"
     ]
    }
   ],
   "source": [
    "import ctypes\n",
    "import _ctypes\n",
    "import pygame\n",
    "import sys\n",
    "import numpy as np\n",
    "from pykinect2 import PyKinectV2\n",
    "from pykinect2.PyKinectV2 import *\n",
    "from pykinect2 import PyKinectRuntime\n",
    "\n",
    "# Kinect 초기화\n",
    "kinect = PyKinectRuntime.PyKinectRuntime(PyKinectV2.FrameSourceTypes_Depth | PyKinectV2.FrameSourceTypes_Color)\n",
    "\n",
    "# Pygame 초기화\n",
    "pygame.init()\n",
    "screen = pygame.display.set_mode((kinect.color_frame_desc.Width, kinect.color_frame_desc.Height))\n",
    "\n",
    "while True:\n",
    "    for event in pygame.event.get():\n",
    "        if event.type == pygame.QUIT:\n",
    "            pygame.quit()\n",
    "            sys.exit()\n",
    "\n",
    "    # 깊이 프레임 가져오기\n",
    "    if kinect.has_new_depth_frame():\n",
    "        depth_frame = kinect.get_last_depth_frame()\n",
    "        depth_frame = np.reshape(depth_frame, (kinect.depth_frame_desc.Height, kinect.depth_frame_desc.Width))\n",
    "        # 여기서 depth_frame을 원하는 방식으로 처리하면 됩니다.\n",
    "\n",
    "    # 컬러 프레임 가져오기\n",
    "    if kinect.has_new_color_frame():\n",
    "        color_frame = kinect.get_last_color_frame()\n",
    "        color_frame = color_frame.reshape((kinect.color_frame_desc.Height, kinect.color_frame_desc.Width, 4))\n",
    "        color_frame = color_frame[..., :3]  # 알파 채널 제거\n",
    "        color_frame = np.flip(color_frame, axis=2)  # RGB 채널 순서 변경\n",
    "        color_surface = pygame.surfarray.make_surface(color_frame)\n",
    "        screen.blit(color_surface, (0, 0))\n",
    "\n",
    "    pygame.display.update()\n",
    "\n",
    "    # 깊이 프레임과 컬러 프레임 메모리 해제\n",
    "    kinect._depth_frame_data = None\n",
    "    kinect._color_frame_data = None\n",
    "\n",
    "# 종료 시 Kinect 관련 자원 해제\n",
    "kinect.close()\n"
   ]
  }
 ],
 "metadata": {
  "kernelspec": {
   "display_name": "UM",
   "language": "python",
   "name": "python3"
  },
  "language_info": {
   "codemirror_mode": {
    "name": "ipython",
    "version": 3
   },
   "file_extension": ".py",
   "mimetype": "text/x-python",
   "name": "python",
   "nbconvert_exporter": "python",
   "pygments_lexer": "ipython3",
   "version": "3.11.4"
  },
  "orig_nbformat": 4
 },
 "nbformat": 4,
 "nbformat_minor": 2
}
