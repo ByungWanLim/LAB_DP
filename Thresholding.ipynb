{
 "cells": [
  {
   "cell_type": "code",
   "execution_count": 110,
   "metadata": {},
   "outputs": [],
   "source": [
    "import cv2\n",
    "import os\n",
    "import numpy as np\n"
   ]
  },
  {
   "cell_type": "code",
   "execution_count": 120,
   "metadata": {},
   "outputs": [],
   "source": [
    "# Image load (흑백)\n",
    "img_dir = \"C:\\Workspace\\DP_0\\DIP4E_Global_BookImages\"\n",
    "#img_name = \"edge-ramp.tif\"\n",
    "img_name = \"checkerboard-noisy2.tif\"\n",
    "#img_name = \"septagon-small.tif\"\n",
    "image = cv2.imread(os.path.join(img_dir, img_name), cv2.IMREAD_GRAYSCALE)\n",
    "\n",
    "# cv2.imshow('Gaussian', bi)\n",
    "# cv2.waitKey(0)\n",
    "# cv2.destroyAllWindows()"
   ]
  },
  {
   "cell_type": "code",
   "execution_count": 112,
   "metadata": {},
   "outputs": [
    {
     "name": "stdout",
     "output_type": "stream",
     "text": [
      "각 그룹의 평균 값: [10.144371206900384, 211.65317546704577]\n",
      "새로운 1번째 T값: 110.89877333697308\n",
      "각 그룹의 평균 값: [10.3592854212178, 211.91525923781742]\n",
      "새로운 2번째 T값: 111.13727232951761\n",
      "각 그룹의 평균 값: [10.377696226530148, 211.93380064473385]\n",
      "새로운 3번째 T값: 111.155748435632\n",
      "각 그룹의 평균 값: [10.377696226530148, 211.93380064473385]\n",
      "새로운 4번째 T값: 111.155748435632\n",
      "반복횟수: 4\n",
      "최적의 T값: 111.155748435632\n"
     ]
    },
    {
     "data": {
      "text/plain": [
       "True"
      ]
     },
     "execution_count": 112,
     "metadata": {},
     "output_type": "execute_result"
    }
   ],
   "source": [
    "# Basic Global Thresholding\n",
    "# 임의의 임계값을 기준으로 그룹을 나누어 평균을 구해 새로운 임계값 도출, 반복\n",
    "\n",
    "T = 255//3\n",
    "k = 0\n",
    "bi = cv2.threshold(image, T, 255, cv2.THRESH_BINARY)[1]\n",
    "\n",
    "cv2.imwrite('Basic_0_img.jpg', bi)\n",
    "\n",
    "for i in range (10):\n",
    "    mean_values = []\n",
    "    binary_image = cv2.threshold(image, T, 255, cv2.THRESH_BINARY)[1]\n",
    "    for group in np.unique(binary_image):\n",
    "        group_pixels = image[binary_image == group]\n",
    "        mean_value = np.mean(group_pixels)\n",
    "        mean_values.append(mean_value)\n",
    "\n",
    "    T = (mean_values[0]+mean_values[1])/2\n",
    "\n",
    "    print('각 그룹의 평균 값:', mean_values)\n",
    "    print(f'새로운 {i+1}번째 T값:', T)\n",
    "\n",
    "    if k == T : \n",
    "        print('반복횟수:', i+1)\n",
    "        print('최적의 T값:', T)\n",
    "        break\n",
    "    else:\n",
    "        k = T\n",
    "\n",
    "cv2.imwrite('Basic_1_img.jpg', binary_image)"
   ]
  },
  {
   "cell_type": "code",
   "execution_count": 113,
   "metadata": {},
   "outputs": [
    {
     "name": "stdout",
     "output_type": "stream",
     "text": [
      "89\n"
     ]
    },
    {
     "data": {
      "text/plain": [
       "True"
      ]
     },
     "execution_count": 113,
     "metadata": {},
     "output_type": "execute_result"
    }
   ],
   "source": [
    "# Optimum Global Thresholding Using Otsu's Method\n",
    "# 옷수\n",
    "\n",
    "def otsu_threshold(image, mask):\n",
    "    # 히스토그램 계산\n",
    "    hist = cv2.calcHist([image], [0], mask, [256], [0, 256])\n",
    "\n",
    "    # 전체 픽셀 수\n",
    "    total_pixels = image.shape[0] * image.shape[1]\n",
    "\n",
    "    # 초기화\n",
    "    sum_total = 0\n",
    "    sum_background = 0\n",
    "    weight_total = 0\n",
    "    max_variance = 0\n",
    "    threshold = 0\n",
    "\n",
    "    for i in range(256):\n",
    "        weight_total += hist[i] / total_pixels\n",
    "        sum_total += i * (hist[i] / total_pixels)\n",
    "\n",
    "    for i in range(256):\n",
    "        weight_background = weight_total - hist[i] / total_pixels\n",
    "        weight_foreground = hist[i] / total_pixels\n",
    "\n",
    "        if weight_background == 0 or weight_foreground == 0:\n",
    "            continue\n",
    "\n",
    "        sum_background += i * (hist[i] / total_pixels)\n",
    "        mean_background = sum_background / weight_background\n",
    "        mean_foreground = (sum_total - sum_background) / weight_foreground\n",
    "\n",
    "        variance_between = weight_background * weight_foreground * (mean_background - mean_foreground) ** 2\n",
    "\n",
    "        if variance_between > max_variance:\n",
    "            max_variance = variance_between\n",
    "            threshold = i\n",
    "\n",
    "    # 이미지 이진화\n",
    "    binary_image = np.zeros_like(image)\n",
    "    binary_image[image > threshold] = 255\n",
    "\n",
    "    return binary_image, threshold\n",
    "\n",
    "# Otsu's method를 이용한 이진화\n",
    "binary_image, threshold = otsu_threshold(image, mask=None)\n",
    "print(threshold)\n",
    "\n",
    "# 결과 출력\n",
    "cv2.imwrite('Otsu_img.jpg', binary_image)\n",
    "# cv2.imshow('Original Image', image)\n",
    "# cv2.imshow('Otsu Threshold', binary_image)\n",
    "# cv2.waitKey(0)\n",
    "# cv2.destroyAllWindows()\n"
   ]
  },
  {
   "cell_type": "code",
   "execution_count": 114,
   "metadata": {},
   "outputs": [
    {
     "name": "stdout",
     "output_type": "stream",
     "text": [
      "21\n"
     ]
    },
    {
     "data": {
      "text/plain": [
       "True"
      ]
     },
     "execution_count": 114,
     "metadata": {},
     "output_type": "execute_result"
    }
   ],
   "source": [
    "# Using Img Smoothing to Improve Global Thresholding\n",
    "# 더 많은 노이즈가 낀 이미지를 이진화 하기위해 블러 처리 후 Otsu 진행\n",
    "\n",
    "# 이미지 스무딩을 위한 평균 필터 적용\n",
    "window_size = 7\n",
    "smoothed_image = cv2.blur(image, (window_size, window_size))\n",
    "\n",
    "binary_image, threshold = otsu_threshold(smoothed_image, mask=None)\n",
    "print(threshold)\n",
    "\n",
    "# 결과 출력\n",
    "cv2.imwrite('Smooth_img.jpg', binary_image)\n",
    "# cv2.imshow('sm', smoothed_image)\n",
    "# cv2.imshow('Thresholded Image', thresholded_image)\n",
    "# cv2.imshow('Original Image', image)\n",
    "# cv2.imshow('Thresholded Image2', binary_image)\n",
    "# cv2.waitKey(0)\n",
    "# cv2.destroyAllWindows()\n"
   ]
  },
  {
   "cell_type": "code",
   "execution_count": 115,
   "metadata": {},
   "outputs": [
    {
     "name": "stdout",
     "output_type": "stream",
     "text": [
      "89\n"
     ]
    },
    {
     "data": {
      "text/plain": [
       "True"
      ]
     },
     "execution_count": 115,
     "metadata": {},
     "output_type": "execute_result"
    }
   ],
   "source": [
    "# Using edges to Improve Global Thresholding\n",
    "\n",
    "def calculate_edge_image(image, th, method):\n",
    "    if method == 'gradient':\n",
    "        # 그라데이션 계산\n",
    "        gradient_x = cv2.Sobel(image, cv2.CV_64F, 1, 0, ksize=3)\n",
    "        gradient_y = cv2.Sobel(image, cv2.CV_64F, 0, 1, ksize=3)\n",
    "        edge_image = np.sqrt(np.square(gradient_x) + np.square(gradient_y))\n",
    "\n",
    "    elif method == 'laplacian':\n",
    "        # 라플라시안 계산\n",
    "        laplacian = cv2.Laplacian(image, cv2.CV_64F)\n",
    "        edge_image = np.abs(laplacian)\n",
    "\n",
    "    else:\n",
    "        raise ValueError(\"Invalid method. Choose either 'gradient' or 'laplacian'.\")\n",
    "\n",
    "    edge_image = cv2.threshold(edge_image, edge_th, 255, cv2.THRESH_BINARY)[1]\n",
    "\n",
    "    return edge_image\n",
    "\n",
    "edge_method = 'gradient'  # 에지 계산 방법 선택 ('gradient' 또는 'laplacian')\n",
    "edge_th = 127\n",
    "edge_image = calculate_edge_image(image, edge_th, method=edge_method)\n",
    "# 마스크 지정\n",
    "mask = np.ones_like(edge_image, dtype=np.uint8) * 255\n",
    "\n",
    "# Otsu\n",
    "binary_image, threshold = otsu_threshold(image, mask)\n",
    "print(threshold)\n",
    "\n",
    "# 결과 출력\n",
    "cv2.imwrite('edges_img.jpg', binary_image)\n",
    "# cv2.imshow('sm', edge_image)\n",
    "# cv2.waitKey(0)\n",
    "# cv2.destroyAllWindows()\n"
   ]
  },
  {
   "cell_type": "code",
   "execution_count": 130,
   "metadata": {},
   "outputs": [
    {
     "name": "stdout",
     "output_type": "stream",
     "text": [
      "[255]\n",
      "[255]\n"
     ]
    }
   ],
   "source": [
    "# Multiple Thresholding\n",
    "# 임계값 2개로 흰 회 검 나누기\n",
    "# 현재 작동 x ㅋㅋ\n",
    "\n",
    "def otsu_threshold3(image):\n",
    "\n",
    "    # Otsu의 이진화 적용\n",
    "    thresholded_image = cv2.threshold(image, 0, 255, cv2.THRESH_BINARY + cv2.THRESH_OTSU)[1]\n",
    "\n",
    "    # 삼진화를 위한 임계값 구하기\n",
    "    hist = cv2.calcHist([image], [0], None, [256], [0, 256])\n",
    "    hist = cv2.convertScaleAbs(hist)\n",
    "    thresholds = cv2.threshold(hist, 0, 255, cv2.THRESH_BINARY + cv2.THRESH_OTSU)[1]\n",
    "    threshold1 = int(thresholds[0])\n",
    "    threshold2 = int(thresholds[1])\n",
    "\n",
    "    # 삼진화 이미지 생성\n",
    "    binary_image = np.zeros_like(image)\n",
    "    binary_image[image > threshold2] = 255\n",
    "    binary_image[(image > threshold1) & (image <= threshold2)] = 128\n",
    "\n",
    "    return binary_image, thresholds\n",
    "\n",
    "# 이미지 삼진화\n",
    "result, th = otsu_threshold3(image)\n",
    "\n",
    "print(th[0])\n",
    "print(th[1])\n",
    "\n",
    "# 결과 출력\n",
    "cv2.imshow('Result', result)\n",
    "cv2.waitKey(0)\n",
    "cv2.destroyAllWindows()\n"
   ]
  },
  {
   "cell_type": "code",
   "execution_count": 117,
   "metadata": {},
   "outputs": [
    {
     "data": {
      "text/plain": [
       "True"
      ]
     },
     "execution_count": 117,
     "metadata": {},
     "output_type": "execute_result"
    }
   ],
   "source": [
    "# Variable Thresholding\n",
    "\n",
    "#1. Image partitioning\n",
    "# img_name = \"septagon.tif\"\n",
    "# image = cv2.imread(os.path.join(img_dir, img_name), cv2.IMREAD_GRAYSCALE)\n",
    "height, width = image.shape[:2]\n",
    "\n",
    "top_left = image[:height//2, :width//2]\n",
    "top_right = image[:height//2, width//2:]\n",
    "bottom_left = image[height//2:, :width//2]\n",
    "bottom_right = image[height//2:, width//2:]\n",
    "\n",
    "mask = None\n",
    "binary_image_TL, _ = otsu_threshold(top_left, mask)\n",
    "binary_image_TR, _ = otsu_threshold(top_right, mask)\n",
    "binary_image_BL, _ = otsu_threshold(bottom_left, mask)\n",
    "binary_image_BR, _ = otsu_threshold(bottom_right, mask)\n",
    "\n",
    "combined_image = np.vstack((np.hstack((binary_image_TL, binary_image_TR)), np.hstack((binary_image_BL, binary_image_BR))))\n",
    "\n",
    "binary_image, _ = otsu_threshold(image, mask)\n",
    "\n",
    "# cv2.imwrite('nonparti_img.jpg', binary_image)\n",
    "cv2.imwrite('partition_img.jpg', combined_image)\n"
   ]
  },
  {
   "cell_type": "code",
   "execution_count": null,
   "metadata": {},
   "outputs": [],
   "source": [
    "# Variable Thresholding\n",
    "\n",
    "#2. based on local image properties\n",
    "# 멀티플의 연장\n",
    "\n"
   ]
  },
  {
   "cell_type": "code",
   "execution_count": null,
   "metadata": {},
   "outputs": [],
   "source": [
    "# Variable Thresholding\n",
    "\n",
    "#3. Using moving averages\n",
    "# 2의 연장\n"
   ]
  },
  {
   "cell_type": "code",
   "execution_count": 118,
   "metadata": {},
   "outputs": [],
   "source": [
    "# Multivariable Thresh\n",
    "# 위에 것들의 결합? 아마도"
   ]
  }
 ],
 "metadata": {
  "kernelspec": {
   "display_name": "UM",
   "language": "python",
   "name": "python3"
  },
  "language_info": {
   "codemirror_mode": {
    "name": "ipython",
    "version": 3
   },
   "file_extension": ".py",
   "mimetype": "text/x-python",
   "name": "python",
   "nbconvert_exporter": "python",
   "pygments_lexer": "ipython3",
   "version": "3.10.9"
  },
  "orig_nbformat": 4
 },
 "nbformat": 4,
 "nbformat_minor": 2
}
